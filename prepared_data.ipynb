{
 "cells": [
  {
   "cell_type": "markdown",
   "source": [
    "## Підготовка даних"
   ],
   "metadata": {
    "collapsed": false
   }
  },
  {
   "cell_type": "code",
   "execution_count": 1,
   "outputs": [],
   "source": [
    "import pandas as pd\n",
    "\n",
    "data = pd.read_csv('archive/duplicate_free_41K.csv')\n",
    "\n",
    "train_size = 29385\n",
    "dev_size = 6297\n",
    "test_size = 6297\n",
    "\n",
    "Y = data[data.columns[6:19]].values\n",
    "train_y = Y[:train_size+dev_size]\n",
    "dev_y = Y[train_size:train_size+dev_size]\n",
    "test_y = Y[train_size+dev_size:]"
   ],
   "metadata": {
    "collapsed": false,
    "ExecuteTime": {
     "end_time": "2023-07-03T14:52:25.867545Z",
     "start_time": "2023-07-03T14:52:25.427398Z"
    }
   }
  },
  {
   "cell_type": "code",
   "execution_count": 2,
   "outputs": [],
   "source": [
    "import os\n",
    "import cv2\n",
    "import numpy as np\n",
    "\n",
    "\n",
    "image_folder = 'archive/img_41K/img_41K/'\n",
    "reference_height = 299\n",
    "reference_width = 299\n",
    "\n",
    "images = []\n",
    "for i in range(42021):\n",
    "    filename = str(i) + '.jpg'\n",
    "    file_path = image_folder + filename\n",
    "    if os.path.isfile(file_path):\n",
    "        try:\n",
    "            image = cv2.imread(file_path)\n",
    "            image = cv2.resize(image, (reference_width, reference_height))\n",
    "            image = np.clip(image * 1.1, 0, 255).astype(np.uint8)\n",
    "            if len(image.shape) == 2:\n",
    "                image = np.repeat(image[:, :, np.newaxis], 3, axis=2)\n",
    "            images.append(cv2.cvtColor(image, cv2.COLOR_BGR2RGB))\n",
    "\n",
    "        except (IOError, OSError):\n",
    "            print(f\"Cannot process file: {file_path}\")"
   ],
   "metadata": {
    "collapsed": false,
    "ExecuteTime": {
     "end_time": "2023-07-03T14:53:24.026590Z",
     "start_time": "2023-07-03T14:52:25.868013Z"
    }
   }
  },
  {
   "cell_type": "code",
   "execution_count": null,
   "outputs": [],
   "source": [
    "images_array = np.array(images)\n",
    "print(images_array.shape)"
   ],
   "metadata": {
    "collapsed": false
   }
  },
  {
   "cell_type": "code",
   "execution_count": null,
   "outputs": [],
   "source": [
    "from tensorflow.keras.applications import ResNet50\n",
    "from tensorflow.keras.applications.resnet import preprocess_input\n",
    "import numpy as np\n",
    "\n",
    "model = ResNet50(weights='imagenet', include_top=False)\n",
    "\n",
    "def get_image_features(images):\n",
    "    features = []\n",
    "\n",
    "    def process_batch(batch_images):\n",
    "        batch_features = model.predict(np.array(batch_images))\n",
    "        batch_features = np.reshape(batch_features, (batch_features.shape[0], -1))\n",
    "        features.extend(batch_features)\n",
    "\n",
    "    batch_images = []\n",
    "    for img in images:\n",
    "        batch_images.append(img)\n",
    "        if len(batch_images) == 32 or len(features) == len(images):\n",
    "            process_batch(batch_images)\n",
    "            batch_images = []\n",
    "\n",
    "    features = np.array(features)\n",
    "    return features\n",
    "\n",
    "poster_features = get_image_features(images_array)\n",
    "\n",
    "print(poster_features)\n"
   ],
   "metadata": {
    "collapsed": false
   }
  },
  {
   "cell_type": "code",
   "execution_count": 10,
   "outputs": [],
   "source": [
    "import numpy as np\n",
    "np.save('archive/poster_features.npy', poster_features)"
   ],
   "metadata": {
    "collapsed": false,
    "ExecuteTime": {
     "end_time": "2023-07-03T15:58:50.896327Z",
     "start_time": "2023-07-03T15:58:08.897161Z"
    }
   }
  },
  {
   "cell_type": "code",
   "execution_count": null,
   "outputs": [],
   "source": [
    "print(poster_features)"
   ],
   "metadata": {
    "collapsed": false
   }
  }
 ],
 "metadata": {
  "kernelspec": {
   "display_name": "Python 3",
   "language": "python",
   "name": "python3"
  },
  "language_info": {
   "codemirror_mode": {
    "name": "ipython",
    "version": 2
   },
   "file_extension": ".py",
   "mimetype": "text/x-python",
   "name": "python",
   "nbconvert_exporter": "python",
   "pygments_lexer": "ipython2",
   "version": "2.7.6"
  }
 },
 "nbformat": 4,
 "nbformat_minor": 0
}
