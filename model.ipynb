{
 "cells": [
  {
   "cell_type": "markdown",
   "source": [
    "## Підготовка даних"
   ],
   "metadata": {
    "collapsed": false
   }
  },
  {
   "cell_type": "code",
   "execution_count": 1,
   "outputs": [],
   "source": [
    "import pandas as pd\n",
    "\n",
    "data = pd.read_csv('archive/duplicate_free_41K.csv')"
   ],
   "metadata": {
    "collapsed": false,
    "ExecuteTime": {
     "end_time": "2023-06-24T15:51:25.739649Z",
     "start_time": "2023-06-24T15:51:25.214138Z"
    }
   }
  },
  {
   "cell_type": "code",
   "execution_count": 31,
   "outputs": [],
   "source": [
    "from PIL import Image\n",
    "import os\n",
    "import numpy as np\n",
    "\n",
    "image_folder = 'archive/img_41K/img_41K'\n",
    "reference_image_path = os.path.join(image_folder, '0.jpg')\n",
    "\n",
    "# Зчитуємо початкове зображення для отримання розміру\n",
    "reference_image = Image.open(reference_image_path)\n",
    "reference_size = reference_image.size\n",
    "\n",
    "# Оголошуємо порожній масив images\n",
    "images = []\n",
    "\n",
    "for i in range(42021):\n",
    "    filename = str(i) + '.jpg'\n",
    "    file_path = os.path.join(image_folder, filename)\n",
    "    if os.path.isfile(file_path):\n",
    "        try:\n",
    "            # Зчитуємо та перетворюємо зображення у розмір, що відповідає початковому зображенню\n",
    "            image = Image.open(file_path).resize(reference_size)\n",
    "            # Перетворюємо зображення в масив NumPy\n",
    "            image_array = np.array(image)\n",
    "            if len(image_array.shape) == 2:\n",
    "                image_array = np.repeat(image_array[:, :, np.newaxis], 3, axis=2)\n",
    "            # Додавання зображення до списку images\n",
    "            images.append(image_array)\n",
    "        except (IOError, OSError):\n",
    "            print(f\"Cannot process file: {file_path}\")\n"
   ],
   "metadata": {
    "collapsed": false,
    "ExecuteTime": {
     "end_time": "2023-06-24T16:48:51.502787Z",
     "start_time": "2023-06-24T16:47:32.410356Z"
    }
   }
  },
  {
   "cell_type": "code",
   "execution_count": null,
   "outputs": [],
   "source": [
    "# Об'єднання масивів в один масив images за допомогою np.concatenate\n",
    "images_array = np.array(images)\n",
    "\n",
    "# Перевірка розміру масиву зображень\n",
    "print(images_array.shape)"
   ],
   "metadata": {
    "collapsed": false
   }
  },
  {
   "cell_type": "code",
   "execution_count": 33,
   "outputs": [],
   "source": [
    "train_size = 29385\n",
    "dev_size = 6297\n",
    "test_size = 6297\n",
    "\n",
    "train_x = images_array[:train_size+dev_size]\n",
    "dev_x = images_array[train_size:train_size+dev_size]\n",
    "test_x = images_array[train_size+dev_size:]"
   ],
   "metadata": {
    "collapsed": false,
    "ExecuteTime": {
     "end_time": "2023-06-24T16:49:55.178386Z",
     "start_time": "2023-06-24T16:49:55.015134Z"
    }
   }
  },
  {
   "cell_type": "code",
   "execution_count": 34,
   "outputs": [],
   "source": [
    "Y = data[data.columns[6:19]].values\n",
    "train_y = Y[:train_size+dev_size]\n",
    "dev_y = Y[train_size:train_size+dev_size]\n",
    "test_y = Y[train_size+dev_size:]"
   ],
   "metadata": {
    "collapsed": false,
    "ExecuteTime": {
     "end_time": "2023-06-24T16:49:55.212198Z",
     "start_time": "2023-06-24T16:49:55.200665Z"
    }
   }
  },
  {
   "cell_type": "markdown",
   "source": [
    "## Створення моделі"
   ],
   "metadata": {
    "collapsed": false
   }
  },
  {
   "cell_type": "code",
   "execution_count": null,
   "outputs": [],
   "source": [
    "import tensorflow as tf\n",
    "from tensorflow.keras import layers\n",
    "\n",
    "# Визначення архітектури моделі\n",
    "model = tf.keras.Sequential()\n",
    "\n",
    "# Додавання згорткових шарів\n",
    "model.add(layers.Conv2D(64, (3, 3), activation='softmax', input_shape=(386, 256, 3)))\n",
    "model.add(layers.Conv2D(128, (3, 3), activation='sigmoid'))\n",
    "model.add(layers.Conv2D(32, (3, 3), activation='relu'))\n",
    "\n",
    "model.add(layers.AveragePooling2D(pool_size=(2, 2)))\n",
    "# Зміна розмірності вхідних даних\n",
    "model.add(layers.Flatten())\n",
    "\n",
    "# Додавання повнозв'язаних шарів\n",
    "model.add(layers.Dense(32, activation='sigmoid'))\n",
    "model.add(layers.Dense(168, activation='tanh'))\n",
    "model.add(layers.Dropout(0.3))\n",
    "model.add(layers.Dense(256, activation='sigmoid'))\n",
    "model.add(layers.Dropout(0.4))\n",
    "model.add(layers.Dense(13, activation='softmax'))\n",
    "\n",
    "learning_rate = 0.00005\n",
    "optimizer = tf.keras.optimizers.Adam(learning_rate=learning_rate)\n",
    "model.compile(optimizer=optimizer, loss=tf.keras.losses.CategoricalCrossentropy(), metrics=['accuracy'])\n",
    "\n",
    "# Виведення структури моделі\n",
    "model.summary()"
   ],
   "metadata": {
    "collapsed": false
   }
  },
  {
   "cell_type": "markdown",
   "source": [
    "## Тренування моделі"
   ],
   "metadata": {
    "collapsed": false
   }
  },
  {
   "cell_type": "code",
   "execution_count": null,
   "outputs": [],
   "source": [
    "for i in range(10):\n",
    "    history = model.fit(train_x, train_y, epochs=1, batch_size=10)\n",
    "    model.save('models/model' + str(i) + ':' + str(history.history['accuracy']) + '.h5')\n",
    "    model_json = model.to_json()\n",
    "    with open('models/model'  + str(i) + ':' + str(history.history['accuracy']) + '.json', 'w') as json_file:\n",
    "        json_file.write(model_json)"
   ],
   "metadata": {
    "collapsed": false
   }
  },
  {
   "cell_type": "code",
   "execution_count": null,
   "outputs": [],
   "source": [
    "loss, accuracy = model.evaluate(test_x, test_y)"
   ],
   "metadata": {
    "collapsed": false
   }
  },
  {
   "cell_type": "code",
   "execution_count": 74,
   "outputs": [],
   "source": [
    "model.save('models/model1:[0.1673].h5')\n",
    "model_json = model.to_json()\n",
    "with open('models/model1:[0.1673].json', 'w') as json_file:\n",
    "    json_file.write(model_json)"
   ],
   "metadata": {
    "collapsed": false,
    "ExecuteTime": {
     "end_time": "2023-06-25T06:44:32.219343Z",
     "start_time": "2023-06-25T06:44:32.083254Z"
    }
   }
  },
  {
   "cell_type": "code",
   "execution_count": null,
   "outputs": [],
   "source": [],
   "metadata": {
    "collapsed": false
   }
  }
 ],
 "metadata": {
  "kernelspec": {
   "display_name": "Python 3",
   "language": "python",
   "name": "python3"
  },
  "language_info": {
   "codemirror_mode": {
    "name": "ipython",
    "version": 2
   },
   "file_extension": ".py",
   "mimetype": "text/x-python",
   "name": "python",
   "nbconvert_exporter": "python",
   "pygments_lexer": "ipython2",
   "version": "2.7.6"
  }
 },
 "nbformat": 4,
 "nbformat_minor": 0
}
